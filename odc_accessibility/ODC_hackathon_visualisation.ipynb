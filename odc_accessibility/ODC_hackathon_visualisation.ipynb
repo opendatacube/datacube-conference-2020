{
 "cells": [
  {
   "cell_type": "markdown",
   "metadata": {},
   "source": [
    "# Visualisation and Interactivity improvements\n",
    "## Objectives\n",
    "1. ~Complete write function that takes ODC xarray output and converts it to RGBA colormap whilst accounting for single bands~\n",
    "2. ~Modify `mk_image_overlay` to also accept RGB(A) values~\n",
    "3. Integrate reprojection to web mercator in parent function\n",
    "4. Normalising dependent on input, no data, categories, bitmask, boolean\n",
    "5. ~Sidecar / ipyleaflet auto update instead of creating new tabs~\n",
    "6. ~Transparency slider~\n",
    "7. ~Basemap plotting options~\n",
    "8. Options for time slices\n",
    "9. ~Display time of image on basemap~\n",
    "10. ~Auto zoom based on query bounding box~"
   ]
  },
  {
   "cell_type": "code",
   "execution_count": 110,
   "metadata": {},
   "outputs": [],
   "source": [
    "import odc.algo\n",
    "import odc.ui\n",
    "\n",
    "from datacube import Datacube\n",
    "from datacube.storage.masking import mask_invalid_data\n",
    "import ipyleaflet\n",
    "import datacube\n",
    "import sys\n",
    "import xarray as xr\n",
    "import numpy as np\n",
    "from typing import Tuple, Optional, List\n",
    "from sidecar import Sidecar\n",
    "from ipywidgets import IntSlider, widgets as w\n",
    "from matplotlib import cm\n",
    "import matplotlib.pyplot as plt\n",
    "from IPython.display import Image, display\n",
    "from matplotlib.colors import Normalize\n",
    "import os\n",
    "\n",
    "import warnings\n",
    "warnings.simplefilter(action='ignore', category=FutureWarning)\n",
    "\n",
    "sys.path.append('../../../Scripts')\n",
    "from dea_datahandling import load_ard\n",
    "from dea_plotting import rgb\n",
    "from dea_plotting import display_map"
   ]
  },
  {
   "cell_type": "code",
   "execution_count": 111,
   "metadata": {},
   "outputs": [],
   "source": [
    "from matplotlib import cm\n",
    "from matplotlib.colors import Normalize\n",
    "\n",
    "def colorize(da, cmap='viridis', vmin=None, vmax=None):\n",
    "    \"\"\"\n",
    "    Convert values in single band xarray to colormap values\n",
    "    Can accept multiple time steps\n",
    "    da - xarray.DataArray\n",
    "    cmap - desired colormapping\n",
    "    vmin / vmax - values for normalisation\n",
    "    \"\"\"\n",
    "    normalized = Normalize(vmin=vmin, vmax=vmax)(da)\n",
    "    colormapped = cm.get_cmap(cmap)(normalized, bytes=True)\n",
    "    colormapped_xr = xr.DataArray(data=colormapped, \n",
    "                                  coords = da.coords, dims=da.dims+('band',))\n",
    "    \n",
    "    colormapped_xr[...,3] = np.isfinite(da) * 255\n",
    "    return colormapped_xr"
   ]
  },
  {
   "cell_type": "code",
   "execution_count": null,
   "metadata": {},
   "outputs": [],
   "source": []
  },
  {
   "cell_type": "code",
   "execution_count": null,
   "metadata": {},
   "outputs": [],
   "source": []
  },
  {
   "cell_type": "code",
   "execution_count": 112,
   "metadata": {},
   "outputs": [],
   "source": [
    "from datacube.utils.rio import set_default_rio_config\n",
    "\n",
    "# Only run if executing in the cloud, will successfully do nothing on NCI\n",
    "if 'AWS_ACCESS_KEY_ID' in os.environ:\n",
    "    set_default_rio_config(aws={'region_name': 'auto'},\n",
    "                           cloud_defaults=True)"
   ]
  },
  {
   "cell_type": "code",
   "execution_count": 113,
   "metadata": {},
   "outputs": [],
   "source": [
    "dc = Datacube(app='viz')"
   ]
  },
  {
   "cell_type": "code",
   "execution_count": 114,
   "metadata": {},
   "outputs": [],
   "source": [
    "# Create sidecar and map widget\n",
    "sc = Sidecar(title='Map')\n",
    "\n",
    "# Create map and add it to sidecar\n",
    "m = ipyleaflet.Map(basemap=ipyleaflet.basemaps.Esri.WorldImagery, center=(-25, 133), zoom=3, scroll_wheel_zoom=True)\n",
    "\n",
    "# Add Full Screen and Layers Controls\n",
    "m.add_control(ipyleaflet.FullScreenControl())\n",
    "m.add_control(ipyleaflet.LayersControl())\n",
    "\n",
    "# Add the opactity slider\n",
    "slider = w.FloatSlider(min=0, max=1, value=1,        # Opacity is valid in [0,1] range\n",
    "                       orientation='vertical',       # Vertical slider is what we want\n",
    "                       readout=False,                # No need to show exact value\n",
    "                       layout=w.Layout(width='2em')) # Fine tune display layout: make it thinner\n",
    "m.add_control(ipyleaflet.WidgetControl(widget=slider))\n",
    "\n",
    "# Add map to sidecar\n",
    "with sc:\n",
    "    display(m)"
   ]
  },
  {
   "cell_type": "code",
   "execution_count": 115,
   "metadata": {},
   "outputs": [
    {
     "name": "stdout",
     "output_type": "stream",
     "text": [
      "Found 1 datasets\n"
     ]
    },
    {
     "data": {
      "application/vnd.jupyter.widget-view+json": {
       "model_id": "b096e856d0f74eee859f8e068b5dc556",
       "version_major": 2,
       "version_minor": 0
      },
      "text/plain": [
       "VBox(children=(HBox(children=(Label(value=''), Label(value='')), layout=Layout(justify_content='space-between'…"
      ]
     },
     "metadata": {},
     "output_type": "display_data"
    },
    {
     "data": {
      "text/html": [
       "<pre>&lt;xarray.Dataset&gt;\n",
       "Dimensions:  (time: 1, x: 4375, y: 4292)\n",
       "Coordinates:\n",
       "  * time     (time) datetime64[ns] 2018-01-01\n",
       "  * y        (y) float64 -3.119e+06 -3.119e+06 ... -3.248e+06 -3.248e+06\n",
       "  * x        (x) float64 1.698e+07 1.698e+07 1.698e+07 ... 1.711e+07 1.711e+07\n",
       "Data variables:\n",
       "    red      (time, y, x) int16 -999 -999 -999 -999 -999 ... -999 -999 -999 -999\n",
       "    green    (time, y, x) int16 -999 -999 -999 -999 -999 ... -999 -999 -999 -999\n",
       "    blue     (time, y, x) int16 -999 -999 -999 -999 -999 ... -999 -999 -999 -999\n",
       "Attributes:\n",
       "    crs:      EPSG:3857</pre>"
      ],
      "text/plain": [
       "<xarray.Dataset>\n",
       "Dimensions:  (time: 1, x: 4375, y: 4292)\n",
       "Coordinates:\n",
       "  * time     (time) datetime64[ns] 2018-01-01\n",
       "  * y        (y) float64 -3.119e+06 -3.119e+06 ... -3.248e+06 -3.248e+06\n",
       "  * x        (x) float64 1.698e+07 1.698e+07 1.698e+07 ... 1.711e+07 1.711e+07\n",
       "Data variables:\n",
       "    red      (time, y, x) int16 -999 -999 -999 -999 -999 ... -999 -999 -999 -999\n",
       "    green    (time, y, x) int16 -999 -999 -999 -999 -999 ... -999 -999 -999 -999\n",
       "    blue     (time, y, x) int16 -999 -999 -999 -999 -999 ... -999 -999 -999 -999\n",
       "Attributes:\n",
       "    crs:      EPSG:3857"
      ]
     },
     "execution_count": 115,
     "metadata": {},
     "output_type": "execute_result"
    }
   ],
   "source": [
    "\n",
    "# Define product and red/green/blue bands in the given product\n",
    "product = 'ls8_nbart_geomedian_annual'\n",
    "RGB = ('red', 'green', 'blue')\n",
    "\n",
    "# Region and time of interest\n",
    "query = dict(\n",
    "    lat=(-27.60, -27.665),\n",
    "    lon=(153.33, 153.425),\n",
    "    time='2018',\n",
    ")\n",
    "\n",
    "dss = dc.find_datasets(product=product, **query)\n",
    "print(f\"Found {len(dss)} datasets\")\n",
    "\n",
    "ds = dc.load(\n",
    "    product=product,             # dc.load always needs product supplied, this needs to be fixed in `dc.load` code\n",
    "    datasets=dss,                # Datasets we found earlier\n",
    "    measurements=RGB,            # Only load red,green,blue bands\n",
    "    group_by='solar_day',        # Fuse all datasets captured on the same day into one raster plane\n",
    "    output_crs='EPSG:3857',      # Default projection used by Leaflet and most webmaps\n",
    "    resolution=(-30, 30),      # 200m pixels (1/20 of the native\n",
    "    progress_cbk=odc.ui.with_ui_cbk())  # Display load progress\n",
    "ds\n",
    "\n",
    "# Load data\n",
    "#query = {\n",
    "#    'x': (153.33, 153.425),\n",
    "#    'y': (-27.60, -27.665),\n",
    "#    'time': ('2018'),\n",
    "#    'output_crs': 'EPSG:3857',\n",
    "#    'resolution': (-30, 30),\n",
    "#    'group_by': 'solar_day'\n",
    "#}\n",
    "#\n",
    "#ds = dc.load(product = 'ls8_nbart_geomedian_annual', **query)\n",
    "#\n",
    "#print(str(ds.time[0].values))"
   ]
  },
  {
   "cell_type": "code",
   "execution_count": 116,
   "metadata": {},
   "outputs": [
    {
     "data": {
      "text/html": [
       "<pre>&lt;xarray.Dataset&gt;\n",
       "Dimensions:  (time: 1, x: 4375, y: 4292)\n",
       "Coordinates:\n",
       "  * time     (time) datetime64[ns] 2018-01-01\n",
       "  * y        (y) float64 -3.119e+06 -3.119e+06 ... -3.248e+06 -3.248e+06\n",
       "  * x        (x) float64 1.698e+07 1.698e+07 1.698e+07 ... 1.711e+07 1.711e+07\n",
       "Data variables:\n",
       "    red      (time, y, x) float64 nan nan nan nan nan ... nan nan nan nan nan\n",
       "    green    (time, y, x) float64 nan nan nan nan nan ... nan nan nan nan nan\n",
       "    blue     (time, y, x) float64 nan nan nan nan nan ... nan nan nan nan nan\n",
       "Attributes:\n",
       "    crs:      EPSG:3857</pre>"
      ],
      "text/plain": [
       "<xarray.Dataset>\n",
       "Dimensions:  (time: 1, x: 4375, y: 4292)\n",
       "Coordinates:\n",
       "  * time     (time) datetime64[ns] 2018-01-01\n",
       "  * y        (y) float64 -3.119e+06 -3.119e+06 ... -3.248e+06 -3.248e+06\n",
       "  * x        (x) float64 1.698e+07 1.698e+07 1.698e+07 ... 1.711e+07 1.711e+07\n",
       "Data variables:\n",
       "    red      (time, y, x) float64 nan nan nan nan nan ... nan nan nan nan nan\n",
       "    green    (time, y, x) float64 nan nan nan nan nan ... nan nan nan nan nan\n",
       "    blue     (time, y, x) float64 nan nan nan nan nan ... nan nan nan nan nan\n",
       "Attributes:\n",
       "    crs:      EPSG:3857"
      ]
     },
     "execution_count": 116,
     "metadata": {},
     "output_type": "execute_result"
    }
   ],
   "source": [
    "ds = mask_invalid_data(ds)\n",
    "ds"
   ]
  },
  {
   "cell_type": "code",
   "execution_count": null,
   "metadata": {},
   "outputs": [],
   "source": []
  },
  {
   "cell_type": "code",
   "execution_count": null,
   "metadata": {},
   "outputs": [],
   "source": []
  },
  {
   "cell_type": "code",
   "execution_count": null,
   "metadata": {},
   "outputs": [],
   "source": []
  },
  {
   "cell_type": "code",
   "execution_count": 127,
   "metadata": {},
   "outputs": [
    {
     "name": "stderr",
     "output_type": "stream",
     "text": [
      "/usr/local/lib/python3.6/dist-packages/matplotlib/colors.py:527: RuntimeWarning: invalid value encountered in less\n",
      "  xa[xa < 0] = -1\n"
     ]
    }
   ],
   "source": [
    "# Convert dataarray values to colormapping\n",
    "cm_da = colorize(ds.red, vmin=500, vmax=3000, cmap='Reds')\n"
   ]
  },
  {
   "cell_type": "code",
   "execution_count": 120,
   "metadata": {},
   "outputs": [],
   "source": [
    "image = odc.ui.mk_image_overlay(cm_da, layer_name='Image1')"
   ]
  },
  {
   "cell_type": "code",
   "execution_count": 121,
   "metadata": {},
   "outputs": [],
   "source": [
    "zoom = odc.ui.zoom_from_bbox(ds.geobox.geographic_extent.boundingbox)"
   ]
  },
  {
   "cell_type": "code",
   "execution_count": 122,
   "metadata": {},
   "outputs": [],
   "source": [
    "# Add layer to map\n",
    "m.zoom = zoom\n",
    "# Center map on new image\n",
    "m.center = (query['lat'][0], query['lon'][0])\n",
    "\n",
    "# Add the opacity slider to the new image\n",
    "w.jslink((slider, 'value'),         \n",
    "         (image, 'opacity') )\n",
    "m.add_layer(image)"
   ]
  },
  {
   "cell_type": "code",
   "execution_count": 123,
   "metadata": {},
   "outputs": [],
   "source": [
    "#message1 = w.HTML()\n",
    "#message1.value = str(ds.time[0].values)\n",
    "\n",
    "# Popup with a given location on the map:\n",
    "#popup1 = ipyleaflet.Popup(\n",
    "#    location=(query['lat'][0], query['lon'][0]),\n",
    "#    child=message1,\n",
    "#    close_button=False,\n",
    "#    auto_close=False,\n",
    "#    close_on_escape_key=False\n",
    "#)\n",
    "#m.add_layer(popup1)\n",
    "\n"
   ]
  },
  {
   "cell_type": "code",
   "execution_count": 124,
   "metadata": {},
   "outputs": [],
   "source": [
    "import time\n",
    "\n",
    "polygons, bbox = odc.ui.dss_to_geojson(dss, bbox=True)\n",
    "\n",
    "def hover_handler(event=None, feature=None, id=None, properties=None):\n",
    "    label = w.HBox([w.Label(value=\"Hover to see the timestamp:\")])\n",
    "    m.add_control(ipyleaflet.WidgetControl(widget=label))\n",
    "    time.sleep(3)\n",
    "    m.remove_control(widget=label)"
   ]
  },
  {
   "cell_type": "code",
   "execution_count": 125,
   "metadata": {},
   "outputs": [],
   "source": [
    "geojson = ipyleaflet.GeoJSON(\n",
    "    data={'type': 'FeatureCollection',\n",
    "          'features': polygons},\n",
    "    style={\n",
    "        'opacity': 0.3,      # Footprint outline opacity\n",
    "        'fillOpacity': 0     # Do not fill\n",
    "    },\n",
    "    hover_style={'color': 'tomato'},  # Style when hovering over footprint\n",
    "    name=\"Footprints\"                 # Name of the Layer, used by Layer Control widget\n",
    ")\n",
    "\n",
    "geojson.on_hover(hover_handler)"
   ]
  },
  {
   "cell_type": "code",
   "execution_count": 126,
   "metadata": {},
   "outputs": [],
   "source": [
    "m.add_layer(geojson)"
   ]
  },
  {
   "cell_type": "code",
   "execution_count": 64,
   "metadata": {},
   "outputs": [],
   "source": [
    "label = w.HBox([w.Label(value=\"Hover to see the timestamp:\")])\n",
    "m.add_control(ipyleaflet.WidgetControl(widget=label))"
   ]
  },
  {
   "cell_type": "code",
   "execution_count": 61,
   "metadata": {},
   "outputs": [],
   "source": []
  },
  {
   "cell_type": "code",
   "execution_count": null,
   "metadata": {},
   "outputs": [],
   "source": []
  }
 ],
 "metadata": {
  "kernelspec": {
   "display_name": "Python 3",
   "language": "python",
   "name": "python3"
  },
  "language_info": {
   "codemirror_mode": {
    "name": "ipython",
    "version": 3
   },
   "file_extension": ".py",
   "mimetype": "text/x-python",
   "name": "python",
   "nbconvert_exporter": "python",
   "pygments_lexer": "ipython3",
   "version": "3.6.9"
  }
 },
 "nbformat": 4,
 "nbformat_minor": 4
}
