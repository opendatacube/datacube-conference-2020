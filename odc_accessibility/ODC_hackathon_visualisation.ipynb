{
 "cells": [
  {
   "cell_type": "markdown",
   "metadata": {},
   "source": [
    "# Visualisation and Interactivity improvements\n",
    "## Objectives\n",
    "1. ~Complete write function that takes ODC xarray output and converts it to RGBA colormap whilst accounting for single bands~\n",
    "2. ~Modify `mk_image_overlay` to also accept RGB(A) values~\n",
    "3. Integrate reprojection to web mercator in parent function\n",
    "4. Normalising dependent on input, no data, categories, bitmask, boolean\n",
    "5. Sidecar / ipyleaflet auto update instead of creating new tabs\n",
    "6. Transparency slider\n",
    "7. ~Basemap plotting options~\n",
    "8. Options for time slices\n",
    "9. Display time of image on basemap"
   ]
  },
  {
   "cell_type": "code",
   "execution_count": 1,
   "metadata": {},
   "outputs": [],
   "source": [
    "import odc.algo\n",
    "import odc.ui\n",
    "from datacube import Datacube\n",
    "from ipyleaflet import Map, ImageOverlay, basemaps\n",
    "import datacube\n",
    "import sys\n",
    "import xarray as xr\n",
    "import numpy as np\n",
    "from typing import Tuple, Optional, List\n",
    "from sidecar import Sidecar\n",
    "from ipywidgets import IntSlider\n",
    "from matplotlib import cm\n",
    "import matplotlib.pyplot as plt\n",
    "from IPython.display import Image, display\n",
    "from matplotlib.colors import Normalize\n",
    "\n",
    "import warnings\n",
    "warnings.simplefilter(action='ignore', category=FutureWarning)\n",
    "\n",
    "sys.path.append('../../Scripts')\n",
    "from dea_datahandling import load_ard\n",
    "from dea_plotting import rgb\n",
    "from dea_plotting import display_map"
   ]
  },
  {
   "cell_type": "code",
   "execution_count": 2,
   "metadata": {},
   "outputs": [],
   "source": [
    "from matplotlib import cm\n",
    "from matplotlib.colors import Normalize\n",
    "\n",
    "def colorize(da, cmap='viridis', vmin=None, vmax=None):\n",
    "    \"\"\"\n",
    "    Convert values in single band xarray to colormap values\n",
    "    Can accept multiple time steps\n",
    "    da - xarray.DataArray\n",
    "    cmap - desired colormapping\n",
    "    vmin / vmax - values for normalisation\n",
    "    \"\"\"\n",
    "    normalized = Normalize(vmin=vmin, vmax=vmax)(da)\n",
    "    colormapped = cm.get_cmap(cmap)(normalized, bytes=True)\n",
    "    colormapped_xr = xr.DataArray(data=colormapped, \n",
    "                                  coords = da.coords, dims=da.dims+('band',))\n",
    "    return colormapped_xr"
   ]
  },
  {
   "cell_type": "code",
   "execution_count": 3,
   "metadata": {},
   "outputs": [],
   "source": [
    "dc = Datacube(app='viz')"
   ]
  },
  {
   "cell_type": "code",
   "execution_count": 4,
   "metadata": {},
   "outputs": [
    {
     "name": "stdout",
     "output_type": "stream",
     "text": [
      "<xarray.Dataset>\n",
      "Dimensions:  (time: 1, x: 354, y: 273)\n",
      "Coordinates:\n",
      "  * time     (time) datetime64[ns] 2018-01-01\n",
      "  * y        (y) float64 -3.199e+06 -3.199e+06 ... -3.207e+06 -3.207e+06\n",
      "  * x        (x) float64 1.707e+07 1.707e+07 1.707e+07 ... 1.708e+07 1.708e+07\n",
      "Data variables:\n",
      "    blue     (time, y, x) int16 485 478 490 492 486 503 ... 239 270 273 289 298\n",
      "    green    (time, y, x) int16 557 547 549 536 525 536 ... 364 408 402 413 429\n",
      "    red      (time, y, x) int16 404 385 335 281 263 254 ... 318 362 344 363 381\n",
      "    nir      (time, y, x) int16 166 153 128 108 109 ... 2278 2469 2269 2341 2314\n",
      "    swir1    (time, y, x) int16 89 81 68 57 56 56 ... 983 1160 1115 1116 1163\n",
      "    swir2    (time, y, x) int16 71 63 51 44 44 44 48 ... 495 448 544 518 528 566\n",
      "Attributes:\n",
      "    crs:      EPSG:3857\n"
     ]
    }
   ],
   "source": [
    "# Load data\n",
    "query = {\n",
    "    'x': (153.33, 153.425),\n",
    "    'y': (-27.60, -27.665),\n",
    "    'time': ('2018'),\n",
    "    'output_crs': 'EPSG:3857',\n",
    "    'resolution': (-30, 30),\n",
    "    'group_by': 'solar_day'\n",
    "}\n",
    "\n",
    "\n",
    "ds = dc.load(product = 'ls8_nbart_geomedian_annual', **query)\n",
    "\n",
    "print(ds)"
   ]
  },
  {
   "cell_type": "code",
   "execution_count": 5,
   "metadata": {},
   "outputs": [],
   "source": [
    "sc = Sidecar(title='Map')\n",
    "m = Map(basemap=basemaps.Esri.WorldImagery, center=(query['y'][0], query['x'][0]), zoom=9)\n",
    "with sc:\n",
    "    display(m)"
   ]
  },
  {
   "cell_type": "markdown",
   "metadata": {},
   "source": [
    "Either run colorize and pass to `mk_image_overlay` or pass a multi band dataset to it."
   ]
  },
  {
   "cell_type": "code",
   "execution_count": 6,
   "metadata": {},
   "outputs": [],
   "source": [
    "# Convert dataarray values to colormapping\n",
    "cm_da = colorize(ds.red, cmap='Reds')"
   ]
  },
  {
   "cell_type": "code",
   "execution_count": 7,
   "metadata": {},
   "outputs": [],
   "source": [
    "#Add to map and center\n",
    "image = odc.ui.mk_image_overlay(cm_da)\n",
    "# Add layer to map\n",
    "m.add_layer(image)\n",
    "m.center = (query['y'][0], query['x'][0])"
   ]
  }
 ],
 "metadata": {
  "kernelspec": {
   "display_name": "Python 3",
   "language": "python",
   "name": "python3"
  },
  "language_info": {
   "codemirror_mode": {
    "name": "ipython",
    "version": 3
   },
   "file_extension": ".py",
   "mimetype": "text/x-python",
   "name": "python",
   "nbconvert_exporter": "python",
   "pygments_lexer": "ipython3",
   "version": "3.6.9"
  }
 },
 "nbformat": 4,
 "nbformat_minor": 4
}
