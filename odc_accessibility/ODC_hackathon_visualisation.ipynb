{
 "cells": [
  {
   "cell_type": "markdown",
   "metadata": {},
   "source": [
    "# Visualisation and Interactivity improvements\n",
    "## Objectives\n",
    "1. ~Complete write function that takes ODC xarray output and converts it to RGBA colormap whilst accounting for single bands~\n",
    "2. ~Modify `mk_image_overlay` to also accept RGB(A) values~\n",
    "3. Integrate reprojection to web mercator in parent function\n",
    "4. Normalising dependent on input, no data, categories, bitmask, boolean\n",
    "5. Sidecar / ipyleaflet auto update instead of creating new tabs\n",
    "6. Transparency slider\n",
    "7. ~Basemap plotting options~\n",
    "8. Options for time slices\n",
    "9. Display time of image on basemap"
   ]
  },
  {
   "cell_type": "code",
   "execution_count": null,
   "metadata": {},
   "outputs": [],
   "source": [
    "import odc.algo\n",
    "import odc.ui\n",
    "from datacube import Datacube\n",
    "import ipyleaflet\n",
    "import datacube\n",
    "import sys\n",
    "import xarray as xr\n",
    "import numpy as np\n",
    "from typing import Tuple, Optional, List\n",
    "from sidecar import Sidecar\n",
    "from ipywidgets import IntSlider, widgets as w\n",
    "from matplotlib import cm\n",
    "import matplotlib.pyplot as plt\n",
    "from IPython.display import Image, display\n",
    "from matplotlib.colors import Normalize\n",
    "\n",
    "import warnings\n",
    "warnings.simplefilter(action='ignore', category=FutureWarning)\n",
    "\n",
    "sys.path.append('../../../Scripts')\n",
    "from dea_datahandling import load_ard\n",
    "from dea_plotting import rgb\n",
    "from dea_plotting import display_map"
   ]
  },
  {
   "cell_type": "code",
   "execution_count": null,
   "metadata": {},
   "outputs": [],
   "source": [
    "from matplotlib import cm\n",
    "from matplotlib.colors import Normalize\n",
    "\n",
    "def colorize(da, cmap='viridis', vmin=None, vmax=None):\n",
    "    \"\"\"\n",
    "    Convert values in single band xarray to colormap values\n",
    "    Can accept multiple time steps\n",
    "    da - xarray.DataArray\n",
    "    cmap - desired colormapping\n",
    "    vmin / vmax - values for normalisation\n",
    "    \"\"\"\n",
    "    normalized = Normalize(vmin=vmin, vmax=vmax)(da)\n",
    "    colormapped = cm.get_cmap(cmap)(normalized, bytes=True)\n",
    "    colormapped_xr = xr.DataArray(data=colormapped, \n",
    "                                  coords = da.coords, dims=da.dims+('band',))\n",
    "    return colormapped_xr"
   ]
  },
  {
   "cell_type": "code",
   "execution_count": null,
   "metadata": {},
   "outputs": [],
   "source": [
    "dc = Datacube(app='viz')"
   ]
  },
  {
   "cell_type": "code",
   "execution_count": null,
   "metadata": {},
   "outputs": [],
   "source": [
    "# Create sidecar and map widget\n",
    "sc = Sidecar(title='Map')\n",
    "\n",
    "# Create map and add it to sidecar\n",
    "m = ipyleaflet.Map(basemap=ipyleaflet.basemaps.Esri.WorldImagery, center=(-25, 133), zoom=3)\n",
    "\n",
    "# Add Full Screen and Layers Controls\n",
    "m.add_control(ipyleaflet.FullScreenControl())\n",
    "m.add_control(ipyleaflet.LayersControl())\n",
    "\n",
    "# Add the opactity slider\n",
    "slider = w.FloatSlider(min=0, max=1, value=1,        # Opacity is valid in [0,1] range\n",
    "                       orientation='vertical',       # Vertical slider is what we want\n",
    "                       readout=False,                # No need to show exact value\n",
    "                       layout=w.Layout(width='2em')) # Fine tune display layout: make it thinner\n",
    "m.add_control(ipyleaflet.WidgetControl(widget=slider))\n",
    "\n",
    "# Add map to sidecar\n",
    "with sc:\n",
    "    display(m)"
   ]
  },
  {
   "cell_type": "code",
   "execution_count": null,
   "metadata": {},
   "outputs": [],
   "source": [
    "# Load data\n",
    "query = {\n",
    "    'x': (153.33, 153.425),\n",
    "    'y': (-27.60, -27.665),\n",
    "    'time': ('2018'),\n",
    "    'output_crs': 'EPSG:3857',\n",
    "    'resolution': (-30, 30),\n",
    "    'group_by': 'solar_day'\n",
    "}\n",
    "\n",
    "ds = dc.load(product = 'ls8_nbart_geomedian_annual', **query)\n",
    "\n",
    "print(ds)"
   ]
  },
  {
   "cell_type": "markdown",
   "metadata": {},
   "source": [
    "Either run colorize and pass to `mk_image_overlay` or pass a multi band dataset to it."
   ]
  },
  {
   "cell_type": "code",
   "execution_count": null,
   "metadata": {},
   "outputs": [],
   "source": [
    "# Convert dataarray values to colormapping\n",
    "cm_da = colorize(ds.red, cmap='Reds')"
   ]
  },
  {
   "cell_type": "code",
   "execution_count": null,
   "metadata": {},
   "outputs": [],
   "source": [
    "#Add to map and center\n",
    "image = odc.ui.mk_image_overlay(cm_da, layer_name='Image1')"
   ]
  },
  {
   "cell_type": "code",
   "execution_count": null,
   "metadata": {},
   "outputs": [],
   "source": [
    "# Add layer to map\n",
    "m.add_layer(image)\n",
    "# Center map on new image\n",
    "m.center = (query['y'][0], query['x'][0])\n",
    "\n",
    "# Add the opacity slider to the new image\n",
    "w.jslink((slider, 'value'),         \n",
    "         (image, 'opacity') )"
   ]
  },
  {
   "cell_type": "code",
   "execution_count": null,
   "metadata": {},
   "outputs": [],
   "source": []
  },
  {
   "cell_type": "code",
   "execution_count": null,
   "metadata": {},
   "outputs": [],
   "source": []
  }
 ],
 "metadata": {
  "kernelspec": {
   "display_name": "Python 3",
   "language": "python",
   "name": "python3"
  },
  "language_info": {
   "codemirror_mode": {
    "name": "ipython",
    "version": 3
   },
   "file_extension": ".py",
   "mimetype": "text/x-python",
   "name": "python",
   "nbconvert_exporter": "python",
   "pygments_lexer": "ipython3",
   "version": "3.6.9"
  }
 },
 "nbformat": 4,
 "nbformat_minor": 4
}
