{
 "cells": [
  {
   "cell_type": "markdown",
   "metadata": {},
   "source": [
    "# Polygon Selector"
   ]
  },
  {
   "cell_type": "code",
   "execution_count": 1,
   "metadata": {},
   "outputs": [],
   "source": [
    "import odc.algo\n",
    "import odc.ui\n",
    "\n",
    "from datacube import Datacube\n",
    "from datacube.storage.masking import mask_invalid_data\n",
    "import ipyleaflet\n",
    "import datacube\n",
    "import sys\n",
    "import xarray as xr\n",
    "import numpy as np\n",
    "from typing import Tuple, Optional, List\n",
    "from sidecar import Sidecar\n",
    "from ipywidgets import IntSlider, widgets as w\n",
    "from matplotlib import cm\n",
    "import matplotlib.pyplot as plt\n",
    "from IPython.display import Image, display\n",
    "from matplotlib.colors import Normalize\n",
    "import os\n",
    "\n",
    "import warnings\n",
    "warnings.simplefilter(action='ignore', category=FutureWarning)\n",
    "\n",
    "sys.path.append('../../../Scripts')\n",
    "from dea_datahandling import load_ard\n",
    "from dea_plotting import rgb\n",
    "from dea_plotting import display_map"
   ]
  },
  {
   "cell_type": "code",
   "execution_count": 2,
   "metadata": {},
   "outputs": [],
   "source": [
    "from datacube.utils.rio import set_default_rio_config\n",
    "\n",
    "# Only run if executing in the cloud, will successfully do nothing on NCI\n",
    "if 'AWS_ACCESS_KEY_ID' in os.environ:\n",
    "    set_default_rio_config(aws={'region_name': 'auto'},\n",
    "                           cloud_defaults=True)"
   ]
  },
  {
   "cell_type": "code",
   "execution_count": 3,
   "metadata": {},
   "outputs": [],
   "source": [
    "dc = Datacube(app='viz')"
   ]
  },
  {
   "cell_type": "code",
   "execution_count": 4,
   "metadata": {},
   "outputs": [],
   "source": [
    "# Create sidecar and map widget\n",
    "sc = Sidecar(title='Map')\n",
    "\n",
    "# Create map and add it to sidecar\n",
    "m = ipyleaflet.Map(basemap=ipyleaflet.basemaps.Esri.WorldImagery, center=(-25, 133), zoom=3, scroll_wheel_zoom=True)\n",
    "\n",
    "# Add Full Screen and Layers Controls\n",
    "m.add_control(ipyleaflet.FullScreenControl())\n",
    "m.add_control(ipyleaflet.LayersControl())\n",
    "\n",
    "# Add the opactity slider\n",
    "slider = w.FloatSlider(min=0, max=1, value=1,        # Opacity is valid in [0,1] range\n",
    "                       orientation='vertical',       # Vertical slider is what we want\n",
    "                       readout=False,                # No need to show exact value\n",
    "                       layout=w.Layout(width='2em')) # Fine tune display layout: make it thinner\n",
    "m.add_control(ipyleaflet.WidgetControl(widget=slider))\n",
    "\n",
    "# Add map to sidecar\n",
    "with sc:\n",
    "  display(m)"
   ]
  },
  {
   "cell_type": "code",
   "execution_count": 5,
   "metadata": {},
   "outputs": [
    {
     "name": "stdout",
     "output_type": "stream",
     "text": [
      "Found 1 datasets\n"
     ]
    },
    {
     "data": {
      "application/vnd.jupyter.widget-view+json": {
       "model_id": "48a3bf760b694517a58de977279736f7",
       "version_major": 2,
       "version_minor": 0
      },
      "text/plain": [
       "VBox(children=(HBox(children=(Label(value=''), Label(value='')), layout=Layout(justify_content='space-between'…"
      ]
     },
     "metadata": {},
     "output_type": "display_data"
    }
   ],
   "source": [
    "# Define product and red/green/blue bands in the given product\n",
    "product = 'ls8_nbart_geomedian_annual'\n",
    "RGB = ('red', 'green', 'blue')\n",
    "\n",
    "# Region and time of interest\n",
    "query = dict(\n",
    "    lat=(-27.60, -27.665),\n",
    "    lon=(153.33, 153.425),\n",
    "    time='2018',\n",
    ")\n",
    "\n",
    "dss = dc.find_datasets(product=product, **query)\n",
    "print(f\"Found {len(dss)} datasets\")\n",
    "\n",
    "ds = dc.load(\n",
    "    product=product,             # dc.load always needs product supplied, this needs to be fixed in `dc.load` code\n",
    "    datasets=dss,                # Datasets we found earlier\n",
    "    measurements=RGB,            # Only load red,green,blue bands\n",
    "    group_by='solar_day',        # Fuse all datasets captured on the same day into one raster plane\n",
    "    output_crs='EPSG:3857',      # Default projection used by Leaflet and most webmaps\n",
    "    resolution=(-30, 30),      # 200m pixels (1/20 of the native\n",
    "    progress_cbk=odc.ui.with_ui_cbk())  # Display load progress\n"
   ]
  },
  {
   "cell_type": "code",
   "execution_count": 6,
   "metadata": {},
   "outputs": [],
   "source": [
    "ds = mask_invalid_data(ds)"
   ]
  },
  {
   "cell_type": "code",
   "execution_count": 7,
   "metadata": {},
   "outputs": [],
   "source": [
    "image = odc.ui.mk_image_overlay(ds, clamp=3000, layer_name='Image1')"
   ]
  },
  {
   "cell_type": "code",
   "execution_count": 8,
   "metadata": {},
   "outputs": [],
   "source": [
    "zoom = odc.ui.zoom_from_bbox(ds.geobox.geographic_extent.boundingbox)"
   ]
  },
  {
   "cell_type": "code",
   "execution_count": 9,
   "metadata": {},
   "outputs": [],
   "source": [
    "# Add layer to map\n",
    "m.zoom = zoom\n",
    "# Center map on new image\n",
    "m.center = (query['lat'][0], query['lon'][0])\n",
    "\n",
    "# Add the opacity slider to the new image\n",
    "w.jslink((slider, 'value'),         \n",
    "         (image, 'opacity') )\n",
    "m.add_layer(image)"
   ]
  },
  {
   "cell_type": "code",
   "execution_count": 10,
   "metadata": {},
   "outputs": [],
   "source": [
    "from ipyleaflet import Map, basemaps, basemap_to_tiles, DrawControl\n",
    "\n",
    "\n",
    "draw_control = DrawControl()\n",
    "draw_control.polyline =  {\n",
    "    \"shapeOptions\": {\n",
    "        \"color\": \"#6bc2e5\",\n",
    "        \"weight\": 8,\n",
    "        \"opacity\": 1.0\n",
    "    }\n",
    "}\n",
    "draw_control.polygon = {\n",
    "    \"shapeOptions\": {\n",
    "        \"fillColor\": \"#6be5c3\",\n",
    "        \"color\": \"#6be5c3\",\n",
    "        \"fillOpacity\": 1.0\n",
    "    },\n",
    "    \"drawError\": {\n",
    "        \"color\": \"#dd253b\",\n",
    "        \"message\": \"Oups!\"\n",
    "    },\n",
    "    \"allowIntersection\": False\n",
    "}\n",
    "draw_control.circle = {\n",
    "    \"shapeOptions\": {\n",
    "        \"fillColor\": \"#efed69\",\n",
    "        \"color\": \"#efed69\",\n",
    "        \"fillOpacity\": 1.0\n",
    "    }\n",
    "}\n",
    "draw_control.rectangle = {\n",
    "    \"shapeOptions\": {\n",
    "        \"fillColor\": \"#fca45d\",\n",
    "        \"color\": \"#fca45d\",\n",
    "        \"fillOpacity\": 1.0\n",
    "    }\n",
    "}\n",
    "#m.add_control(draw_control)"
   ]
  },
  {
   "cell_type": "code",
   "execution_count": 11,
   "metadata": {},
   "outputs": [],
   "source": [
    "#def handle_draw(self, action, geo_json):\n",
    "#    print(action)\n",
    "#    print(geo_json)\n",
    "\n",
    "#draw_control.on_draw(handle_draw)\n",
    "#m.add_control(draw_control)"
   ]
  },
  {
   "cell_type": "code",
   "execution_count": null,
   "metadata": {},
   "outputs": [],
   "source": []
  },
  {
   "cell_type": "code",
   "execution_count": null,
   "metadata": {},
   "outputs": [],
   "source": []
  },
  {
   "cell_type": "code",
   "execution_count": 12,
   "metadata": {},
   "outputs": [],
   "source": [
    "def mk_map_region_selector(**kwargs):\n",
    "    from ipyleaflet import Map, WidgetControl, FullScreenControl, DrawControl\n",
    "    from ipywidgets.widgets import Layout, Button, HTML\n",
    "    from types import SimpleNamespace\n",
    "\n",
    "    state = SimpleNamespace(selection=None,\n",
    "                            bounds=None,\n",
    "                            done=False)\n",
    "\n",
    "    btn_done = Button(description='done',\n",
    "                      layout=Layout(width='5em'))\n",
    "    btn_done.style.button_color = 'green'\n",
    "    btn_done.disabled = True\n",
    "\n",
    "    html_info = HTML(layout=Layout(flex='1 0 20em',\n",
    "                                   width='20em',\n",
    "                                   height='3em'))\n",
    "\n",
    "    def update_info(txt):\n",
    "        html_info.value = '<pre style=\"color:grey\">' + txt + '</pre>'\n",
    "\n",
    "    #m = Map(**kwargs) if len(kwargs) else Map(zoom=2)\n",
    "    #m.scroll_wheel_zoom = True\n",
    "    #m.layout.height = height\n",
    "    \n",
    "    m = kwargs['current_map']\n",
    "\n",
    "    widgets = [\n",
    "        WidgetControl(widget=btn_done, position='topright'),\n",
    "        WidgetControl(widget=html_info, position='bottomleft'),\n",
    "    ]\n",
    "    for w in widgets:\n",
    "        m.add_control(w)\n",
    "\n",
    "    draw = DrawControl()\n",
    "\n",
    "    draw.circle = {}\n",
    "    draw.polyline = {}\n",
    "    draw.circlemarker = {}\n",
    "\n",
    "    shape_opts = {\"fillColor\": \"#fca45d\",\n",
    "                  \"color\": \"#000000\",\n",
    "                  \"fillOpacity\": 0.1}\n",
    "    draw.rectangle = {\"shapeOptions\": shape_opts}\n",
    "    poly_opts = {\"shapeOptions\": dict(**shape_opts)}\n",
    "    poly_opts[\"shapeOptions\"][\"original\"] = dict(**shape_opts)\n",
    "    poly_opts[\"shapeOptions\"][\"editing\"] = dict(**shape_opts)\n",
    "\n",
    "    draw.polygon = poly_opts\n",
    "    draw.edit = True\n",
    "    draw.remove = True\n",
    "    m.add_control(draw)\n",
    "\n",
    "    def on_done(btn):\n",
    "        state.done = True\n",
    "        btn_done.disabled = True\n",
    "        m.remove_control(draw)\n",
    "        for w in widgets:\n",
    "            m.remove_control(w)\n",
    "\n",
    "    def bounds_handler(event):\n",
    "        (lat1, lon1), (lat2, lon2) = event['new']\n",
    "        txt = 'lat: [{:.{n}f}, {:.{n}f}]\\nlon: [{:.{n}f}, {:.{n}f}]'.format(\n",
    "            lat1, lat2, lon1, lon2, n=4)\n",
    "        update_info(txt)\n",
    "        state.bounds = dict(lat=(lat1, lat2),\n",
    "                            lon=(lon1, lon2))\n",
    "\n",
    "    def on_draw(event):\n",
    "        v = event['new']\n",
    "        action = event['name']\n",
    "        if action == 'last_draw':\n",
    "            state.selection = v['geometry']\n",
    "        elif action == 'last_action' and v == 'deleted':\n",
    "            state.selection = None\n",
    "\n",
    "        btn_done.disabled = state.selection is None\n",
    "\n",
    "    draw.observe(on_draw)\n",
    "    m.observe(bounds_handler, ('bounds',))\n",
    "    btn_done.on_click(on_done)\n",
    "\n",
    "    return state\n",
    "\n",
    "\n",
    "def select_on_a_map(**kwargs):\n",
    "    \"\"\" Display a map and block execution until user selects a region of interest.\n",
    "    Returns selected region as datacube Geometry class.\n",
    "        polygon = select_on_map()\n",
    "    **kwargs**\n",
    "      height -- height of the map, for example \"500px\", \"10el\"\n",
    "    Any parameter ipyleaflet.Map(..) accepts:\n",
    "      zoom   Int\n",
    "      center (lat: Float, lon: Float)\n",
    "      ...\n",
    "    \"\"\"\n",
    "    from IPython.display import display\n",
    "    from odc.ui import ui_poll\n",
    "\n",
    "    state = mk_map_region_selector(**kwargs)\n",
    "\n",
    "    def extract_geometry(state):\n",
    "        from datacube.utils.geometry import Geometry\n",
    "        from datacube.testutils.geom import epsg4326\n",
    "\n",
    "        return Geometry(state.selection, epsg4326)\n",
    "\n",
    "    return ui_poll(lambda: extract_geometry(state) if state.done else None)"
   ]
  },
  {
   "cell_type": "code",
   "execution_count": null,
   "metadata": {},
   "outputs": [],
   "source": [
    "extents = select_on_a_map(current_map=m)\n",
    "print(extents)\n",
    "polygons = extents"
   ]
  },
  {
   "cell_type": "code",
   "execution_count": null,
   "metadata": {},
   "outputs": [],
   "source": [
    "print(polygons)\n"
   ]
  },
  {
   "cell_type": "code",
   "execution_count": null,
   "metadata": {},
   "outputs": [],
   "source": []
  },
  {
   "cell_type": "code",
   "execution_count": null,
   "metadata": {},
   "outputs": [],
   "source": []
  }
 ],
 "metadata": {
  "kernelspec": {
   "display_name": "Python 3",
   "language": "python",
   "name": "python3"
  },
  "language_info": {
   "codemirror_mode": {
    "name": "ipython",
    "version": 3
   },
   "file_extension": ".py",
   "mimetype": "text/x-python",
   "name": "python",
   "nbconvert_exporter": "python",
   "pygments_lexer": "ipython3",
   "version": "3.6.9"
  }
 },
 "nbformat": 4,
 "nbformat_minor": 4
}
